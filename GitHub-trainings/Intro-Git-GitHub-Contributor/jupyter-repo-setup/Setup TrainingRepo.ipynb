{
 "cells": [
  {
   "cell_type": "markdown",
   "metadata": {},
   "source": [
    "# Script that sets up training repository\n",
    "\n",
    "Change the settings in the first cell and run all to create the repository and send the invitations."
   ]
  },
  {
   "cell_type": "code",
   "execution_count": 1,
   "metadata": {},
   "outputs": [],
   "source": [
    "import os, sys, json,importlib, base64,urllib\n",
    "\n",
    "#This notebook requires you to install https://github.com/PyGithub/PyGithub first\n",
    "from github import Github, InputGitAuthor\n",
    "\n",
    "#Add parent folder to library paths\n",
    "module_path = os.path.abspath(os.path.join('../../Common-Resources'))\n",
    "if module_path not in sys.path:\n",
    "    sys.path.append(module_path)\n",
    "import github_tools as ghTools"
   ]
  },
  {
   "cell_type": "code",
   "execution_count": 2,
   "metadata": {
    "scrolled": true
   },
   "outputs": [],
   "source": [
    "accessToken = ghTools.getTokenAttribute(attribute=\"token\")\n",
    "ghSession = Github(accessToken)\n",
    "\n",
    "#get user\n",
    "user = ghSession.get_user()\n",
    "username = user.login"
   ]
  },
  {
   "cell_type": "markdown",
   "metadata": {
    "scrolled": true
   },
   "source": [
    "### Manually input name of repository"
   ]
  },
  {
   "cell_type": "code",
   "execution_count": 3,
   "metadata": {},
   "outputs": [],
   "source": [
    "#The name of the repository to create, use random 4 letters to get unique url\n",
    "reponame = \"lyrics-Jul14\""
   ]
  },
  {
   "cell_type": "markdown",
   "metadata": {},
   "source": [
    "## Creating the repo"
   ]
  },
  {
   "cell_type": "code",
   "execution_count": 4,
   "metadata": {},
   "outputs": [
    {
     "name": "stdout",
     "output_type": "stream",
     "text": [
      "Deleted: kbjarkefur/lyrics-Jul14\n"
     ]
    }
   ],
   "source": [
    "#making sure the repo is not already tere\n",
    "try:\n",
    "    del_repo = ghSession.get_repo(username+\"/\"+reponame)\n",
    "    print(\"Deleted: \" + del_repo.full_name)\n",
    "    del_repo.delete()\n",
    "except:\n",
    "    print(\"No repo with that name\")"
   ]
  },
  {
   "cell_type": "code",
   "execution_count": 5,
   "metadata": {},
   "outputs": [
    {
     "name": "stdout",
     "output_type": "stream",
     "text": [
      "Repository(full_name=\"kbjarkefur/lyrics-Jul14\")\n"
     ]
    }
   ],
   "source": [
    "#Create the repo\n",
    "training_repo = user.create_repo(reponame, auto_init=True)\n",
    "print(training_repo)"
   ]
  },
  {
   "cell_type": "markdown",
   "metadata": {},
   "source": [
    "### Replace the auto initialized repo with the prepared README and add .gitignore"
   ]
  },
  {
   "cell_type": "markdown",
   "metadata": {},
   "source": [
    "#### update README"
   ]
  },
  {
   "cell_type": "code",
   "execution_count": 6,
   "metadata": {
    "scrolled": true
   },
   "outputs": [
    {
     "name": "stdout",
     "output_type": "stream",
     "text": [
      "{'commit': Commit(sha=\"ff6d627ad530f7cd14e56e636e1f9cd2d1382981\"), 'content': ContentFile(path=\"README.md\")}\n"
     ]
    }
   ],
   "source": [
    "#Get the commit sha from where the README was created in the auto_init\n",
    "contents = training_repo.get_contents(\"README.md\")\n",
    "\n",
    "#Read the README file in this repo to get the content for the commit\n",
    "file_content = open('repo-content-files/README.md', 'rb').read()\n",
    "#print(file_content)\n",
    "\n",
    "#Update the README file\n",
    "readme_update_result = training_repo.update_file(\"/README.md\", \n",
    "                                                 \"Update README.md\", \n",
    "                                                 file_content,\n",
    "                                                 contents.sha,\n",
    "                                                 branch=\"master\")\n",
    "\n",
    "readme_update_sha = readme_update_result[\"commit\"].sha\n",
    "print(readme_update_result)"
   ]
  },
  {
   "cell_type": "markdown",
   "metadata": {},
   "source": [
    "#### Create the initial-branch"
   ]
  },
  {
   "cell_type": "code",
   "execution_count": 7,
   "metadata": {},
   "outputs": [
    {
     "data": {
      "text/plain": [
       "GitRef(ref=\"refs/heads/initial-branch\")"
      ]
     },
     "execution_count": 7,
     "metadata": {},
     "output_type": "execute_result"
    }
   ],
   "source": [
    "training_repo.create_git_ref(\"refs/heads/initial-branch\", readme_update_sha)"
   ]
  },
  {
   "cell_type": "markdown",
   "metadata": {},
   "source": [
    "#### add .gitignore"
   ]
  },
  {
   "cell_type": "code",
   "execution_count": 8,
   "metadata": {},
   "outputs": [],
   "source": [
    "#Read the README file in this repo to get the content for the commit\n",
    "file_content = open(\"repo-content-files/no.gitignore\", 'rb').read()\n",
    "\n",
    "#Update the README file\n",
    "create_ignore_result = training_repo.create_file(\"/.gitignore\", \"add a ignore file\", file_content, branch=\"master\")"
   ]
  },
  {
   "cell_type": "markdown",
   "metadata": {},
   "source": [
    "### Start adding lyrics files"
   ]
  },
  {
   "cell_type": "code",
   "execution_count": 9,
   "metadata": {},
   "outputs": [
    {
     "name": "stdout",
     "output_type": "stream",
     "text": [
      "bb6aa37a21d525f53266e9ba87bdff8c061a81ca\n"
     ]
    }
   ],
   "source": [
    "list_of_files = [\n",
    "    [\"/lyrics/pop/backstreets-back.txt\",\"Adding Backstreet Back - Go BSB!\"],\n",
    "    [\"/lyrics/rock/stairway-to-heaven.txt\",\"Stairway to Heaven! So GOOOD.\"],\n",
    "    [\"/lyrics/rock/november-rain.txt\",\"November Rain - The solo is AMAZING!\"],\n",
    "    [\"/lyrics/pop/mamma-mia.txt\",\"ABBA is the best! And this song is their best!\"]\n",
    "]\n",
    "\n",
    "for song_list in list_of_files:\n",
    "    #Read the README file in this repo to get the content for the commit\n",
    "    file_content = open(\"repo-content-files/\" + song_list[0], 'rb').read()\n",
    "    #print(file_content)\n",
    "\n",
    "    #Update the README file\n",
    "    create_result = training_repo.create_file(song_list[0], song_list[1], file_content, branch=\"master\")\n",
    "    \n",
    "last_sha = create_result[\"commit\"].sha\n",
    "print(last_sha)"
   ]
  },
  {
   "cell_type": "code",
   "execution_count": 10,
   "metadata": {},
   "outputs": [
    {
     "data": {
      "text/plain": [
       "GitRef(ref=\"refs/heads/queen-branch\")"
      ]
     },
     "execution_count": 10,
     "metadata": {},
     "output_type": "execute_result"
    }
   ],
   "source": [
    "#Create the queen branch\n",
    "training_repo.create_git_ref(\"refs/heads/queen-branch\", last_sha)"
   ]
  },
  {
   "cell_type": "code",
   "execution_count": 11,
   "metadata": {},
   "outputs": [
    {
     "data": {
      "text/plain": [
       "{'commit': Commit(sha=\"cea824bebd7236ee7af2218379e11d021e21cf69\"),\n",
       " 'content': NotSet}"
      ]
     },
     "execution_count": 11,
     "metadata": {},
     "output_type": "execute_result"
    }
   ],
   "source": [
    "#Remove Abba from the queen branch\n",
    "contents = training_repo.get_contents(\"lyrics/pop/mamma-mia.txt\", ref=\"refs/heads/queen-branch\")\n",
    "training_repo.delete_file(\"/\"+contents.path, \"ABBA is not that great\", contents.sha, branch=\"queen-branch\")"
   ]
  },
  {
   "cell_type": "code",
   "execution_count": 12,
   "metadata": {},
   "outputs": [
    {
     "name": "stdout",
     "output_type": "stream",
     "text": [
      "{'content': ContentFile(path=\"lyrics/pop/dont-stop-me-now.txt\"), 'commit': Commit(sha=\"6a740e20c1e636edd3b5a741c01d70e189ca1be3\")}\n"
     ]
    }
   ],
   "source": [
    "list_of_files = [\n",
    "    [\"/lyrics/pop/dont-stop-me-now.txt\",\"Dont try to stop me!, Yass Queen\",\"queen-branch\"]\n",
    "]\n",
    "\n",
    "for song_list in list_of_files:\n",
    "    #Read the README file in this repo to get the content for the commit\n",
    "    file_content = open(\"repo-content-files/\" + song_list[0], 'rb').read()\n",
    "    #print(file_content)\n",
    "\n",
    "    #Update the README file\n",
    "    create_result = training_repo.create_file(song_list[0], song_list[1], file_content, branch=song_list[2])\n",
    "    \n",
    "    last_sha = create_result[\"commit\"].sha\n",
    "    print(create_result)"
   ]
  }
 ],
 "metadata": {
  "kernelspec": {
   "display_name": "Python 3",
   "language": "python",
   "name": "python3"
  },
  "language_info": {
   "codemirror_mode": {
    "name": "ipython",
    "version": 3
   },
   "file_extension": ".py",
   "mimetype": "text/x-python",
   "name": "python",
   "nbconvert_exporter": "python",
   "pygments_lexer": "ipython3",
   "version": "3.7.6"
  }
 },
 "nbformat": 4,
 "nbformat_minor": 2
}
