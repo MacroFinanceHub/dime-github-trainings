{
 "cells": [
  {
   "cell_type": "markdown",
   "metadata": {},
   "source": [
    "# Script that sets up training repository\n",
    "\n",
    "Change the settings in the first cell and run all to create the repository and send the invitations."
   ]
  },
  {
   "cell_type": "code",
   "execution_count": null,
   "metadata": {},
   "outputs": [],
   "source": [
    "import os, sys, json,importlib, base64, time\n",
    "\n",
    "#This notebook requires you to install https://github.com/PyGithub/PyGithub first\n",
    "from github import Github, InputGitAuthor\n",
    "\n",
    "#Add parent folder to library paths\n",
    "module_path = os.path.abspath(os.path.join('../../Common-Resources'))\n",
    "if module_path not in sys.path:\n",
    "    sys.path.append(module_path)\n",
    "import github_tools as ghTools"
   ]
  },
  {
   "cell_type": "code",
   "execution_count": null,
   "metadata": {},
   "outputs": [],
   "source": [
    "ghTools.getTokenAttribute(attribute=\"toksen\")"
   ]
  },
  {
   "cell_type": "code",
   "execution_count": null,
   "metadata": {},
   "outputs": [],
   "source": [
    "######################################\n",
    "#Get access token and log in main user\n",
    "\n",
    "accessToken = ghTools.getTokenAttribute(attribute=\"token\")\n",
    "\n",
    "#Test if an access token exist, if it does, try to log in user, otherwise throw error\n",
    "if accessToken:\n",
    "    ghSession1 = Github(accessToken)\n",
    "    #get user\n",
    "    user1 = ghSession1.get_user()\n",
    "else:\n",
    "    raise Exception('You must pass a token in the attribute token for user 1')\n",
    "\n",
    "######################################\n",
    "#Get access token and log in user 2, \n",
    "# user 1 will be used as user 2 as well \n",
    "# if there is an error\n",
    "\n",
    "#Get access token for user 2\n",
    "accessToken2 = ghTools.getTokenAttribute(attribute=\"token_user2\")\n",
    "\n",
    "#Test if an access token exist, if it does, try to log in user, use user 1\n",
    "if accessToken2:\n",
    "    ghSession2 = Github(accessToken2)\n",
    "    #get user\n",
    "    user2 = ghSession2.get_user()\n",
    "else:\n",
    "    user2 = user1\n",
    "    \n",
    "#Print result\n",
    "print(accessToken, user1.login)\n",
    "print(accessToken2, user2.login)"
   ]
  },
  {
   "cell_type": "code",
   "execution_count": null,
   "metadata": {},
   "outputs": [],
   "source": [
    "#ghTools.getInputUser()"
   ]
  },
  {
   "cell_type": "markdown",
   "metadata": {},
   "source": [
    "## Creating the repo"
   ]
  },
  {
   "cell_type": "code",
   "execution_count": null,
   "metadata": {},
   "outputs": [],
   "source": [
    "#The name of the repository to create, use random 4 letters to get unique url\n",
    "reponame = \"country-facts-test\"\n",
    "repoadress = user1.login+\"/\"+reponame\n",
    "\n",
    "#making sure the repo is not already there\n",
    "try:\n",
    "    del_repo = ghSession1.get_repo(repoadress)\n",
    "    print(\"Delete:\", del_repo)\n",
    "    del_repo.delete()\n",
    "except:\n",
    "    print(\"No repo with that name\")\n",
    "    \n",
    "#Create the repo\n",
    "description=\"Country-Fact repository for DIME Analytics Intro-Git-GitHub-Observer training\"\n",
    "user1_repo = user1.create_repo(reponame, auto_init=True,description=description)\n",
    "print(user1_repo)\n",
    "\n",
    "#Invite user 2 and have user 2 to accept the invitation\n",
    "user2_inviation = user1_repo.add_to_collaborators(user2.login)\n",
    "user2.accept_invitation(user2_inviation)\n",
    "\n",
    "user2_repo = ghSession2.get_repo(repoadress)\n",
    "user2_repo"
   ]
  },
  {
   "cell_type": "markdown",
   "metadata": {},
   "source": [
    "## Add content to repo"
   ]
  },
  {
   "cell_type": "markdown",
   "metadata": {},
   "source": [
    "### update README"
   ]
  },
  {
   "cell_type": "code",
   "execution_count": null,
   "metadata": {
    "scrolled": true
   },
   "outputs": [],
   "source": [
    "#Get the commit sha from where the README was created in the auto_init\n",
    "contents = user1_repo.get_contents(\"README.md\")\n",
    "\n",
    "#Read the README file in this repo to get the content for the commit\n",
    "file_content = open('repo-content-files/README.md', 'rb').read()\n",
    "\n",
    "\n",
    "#Update the README file\n",
    "readme_update_result = user1_repo.update_file(\"/README.md\", \"Update README.md\", file_content,contents.sha, branch=\"master\")\n",
    "\n",
    "readme_update_sha = readme_update_result[\"commit\"].sha\n",
    "print(readme_update_result)"
   ]
  },
  {
   "cell_type": "markdown",
   "metadata": {},
   "source": [
    "### add .gitignore"
   ]
  },
  {
   "cell_type": "code",
   "execution_count": null,
   "metadata": {},
   "outputs": [],
   "source": [
    "#Read the README file in this repo to get the content for the commit\n",
    "file_content = open(\"repo-content-files/no.gitignore\", 'rb').read()\n",
    "\n",
    "#Update the README file\n",
    "create_ignore_result = user1_repo.create_file(\"/.gitignore\", \"add a ignore file\", file_content, branch=\"master\")"
   ]
  },
  {
   "cell_type": "markdown",
   "metadata": {},
   "source": [
    "### Start building the country-fact.txt file"
   ]
  },
  {
   "cell_type": "code",
   "execution_count": null,
   "metadata": {},
   "outputs": [],
   "source": [
    "#User 1 author\n",
    "user1_author = ghTools.getUseOrDefault(attribute=\"user1_author\")\n",
    "\n",
    "#get country users, or use user1 if they are not added\n",
    "brazil_user = ghTools.getUseOrDefault(attribute=\"brazil_user\",default_author=user1_author)\n",
    "spain_user = ghTools.getUseOrDefault(attribute=\"spain_user\",default_author=user1_author)\n",
    "usa_user = ghTools.getUseOrDefault(attribute=\"usa_user\",default_author=user1_author)\n",
    "india_user = ghTools.getUseOrDefault(attribute=\"india_user\",default_author=user1_author)\n",
    "nepal_user = ghTools.getUseOrDefault(attribute=\"nepal_user\",default_author=user1_author)\n",
    "sweden_user = ghTools.getUseOrDefault(attribute=\"sweden_user\",default_author=user1_author)"
   ]
  },
  {
   "cell_type": "code",
   "execution_count": null,
   "metadata": {
    "scrolled": true
   },
   "outputs": [],
   "source": [
    "#####\n",
    "# Create the country-fact file\n",
    "\n",
    "# Country fact file path and name in repo\n",
    "country_fact_file = \"/facts/countries.do\"\n",
    "\n",
    "#Read the README file in this repo to get the content for the commit\n",
    "file_content = open(\"repo-content-files/commit1/country-facts.do\", 'rb').read()\n",
    "\n",
    "#Update the README file\n",
    "create_result = user1_repo.create_file(\"/facts/countries.do\", \"Create country facts file\", file_content, branch=\"master\")\n",
    "    \n",
    "print(create_result)\n",
    "\n",
    "#####\n",
    "# Update the country-fact file\n",
    "\n",
    "#List of all files to commit\n",
    "country_fact_commits = [\n",
    "    [\"commit2/country-facts.do\",\"Add country headers\",user1_author],\n",
    "    [\"commit3/country-facts.do\",\"Add categories\",user1_author],\n",
    "    [\"commit4/country-facts.do\",\"Add facts about Sweden\",sweden_user],\n",
    "    [\"commit5/country-facts.do\",\"Update country-facts.txt\",brazil_user],\n",
    "    [\"commit6/country-facts.do\",\"Spain\",spain_user],\n",
    "    [\"commit7/country-facts.do\",\"Update country-facts.txt\",usa_user],\n",
    "    [\"commit8/country-facts.do\",\"Updated India facts\",india_user],\n",
    "    [\"commit9/country-facts.do\",\"Update country-facts.txt\",nepal_user]\n",
    "]\n",
    "\n",
    "#Loop over all commit and commit them\n",
    "for country_fact_commit in country_fact_commits:\n",
    "    \n",
    "    #Get the local content to be committed\n",
    "    file_content = open(\"repo-content-files/\" + country_fact_commit[0], 'rb').read()\n",
    "\n",
    "    #Submit the commit\n",
    "    create_result = user1_repo.update_file(country_fact_file,country_fact_commit[1],file_content,\n",
    "                                              create_result[\"content\"].sha,branch=\"master\",committer=country_fact_commit[2])\n",
    "    #Print results\n",
    "    print(country_fact_commit[2],country_fact_commit[1])\n",
    "    \n",
    "last_fact_commit_sha = create_result[\"commit\"].sha\n",
    "last_fact_content_sha = create_result[\"content\"].sha"
   ]
  },
  {
   "cell_type": "markdown",
   "metadata": {},
   "source": [
    "## Work with the content"
   ]
  },
  {
   "cell_type": "markdown",
   "metadata": {},
   "source": [
    "### Create an issue"
   ]
  },
  {
   "cell_type": "code",
   "execution_count": null,
   "metadata": {},
   "outputs": [],
   "source": [
    "#################\n",
    "# Craete the issue\n",
    "\n",
    "#Create parameters for issue\n",
    "title =\"Capital of India is incorrect\"\n",
    "code_line_reference_URL = \"https://github.com/\" +repoadress+ \"/blob/\" +last_fact_commit_sha+ \"/\" +country_fact_file+ \"#L18-L22\"\n",
    "body = code_line_reference_URL + \"\\n I do not think that the capital of India is Mumbai. Does anyone know what the real capitol of India is?\"\n",
    "\n",
    "#Create the issue\n",
    "india_issue_user2 = user2_repo.create_issue(title=title,body=body)\n",
    "print(india_issue_user2)\n",
    "\n",
    "#################\n",
    "# First reply to the issue\n",
    "\n",
    "\n",
    "india_issue_user1 = user1_repo.get_issue(number=india_issue_user2.number)\n",
    "#Reply\n",
    "india_issue_user1.create_comment(\"I know it! It is **New Dehli!** I will do this!\")\n",
    "#Self assignment\n",
    "india_issue_user1.add_to_assignees(user1.login)\n",
    "\n",
    "#Sleep to guarantee that assignee comes bofore next comment to issue\n",
    "time.sleep(3)"
   ]
  },
  {
   "cell_type": "markdown",
   "metadata": {},
   "source": [
    "### Create branch where issue will be fixed"
   ]
  },
  {
   "cell_type": "code",
   "execution_count": null,
   "metadata": {},
   "outputs": [],
   "source": [
    "#Create a brnach to be used to fix the issue in india\n",
    "fix_india_capital_branch_name = \"fix-india-capital\"\n",
    "user1_repo.create_git_ref(\"refs/heads/\" + fix_india_capital_branch_name, last_fact_commit_sha)\n",
    "\n",
    "india_issue_user1.create_comment(\"I have opened a new branch called `\" +fix_india_capital_branch_name+ \"`. Follow my progress there.\")\n",
    "#print(resp)"
   ]
  },
  {
   "cell_type": "markdown",
   "metadata": {},
   "source": [
    "### Commit fix to issue"
   ]
  },
  {
   "cell_type": "code",
   "execution_count": null,
   "metadata": {},
   "outputs": [],
   "source": [
    "#Prepare the correct India fix\n",
    "country_fact_commit = [\"commit-fix-dehli/country-facts.do\",\"Correct India capital #\" +str(india_issue_user1.number) ,InputGitAuthor(\"kbjarkefur\",\"kbrkbr000@gmail.com\")]\n",
    "\n",
    "#Get the local content to be committed\n",
    "file_content = open(\"repo-content-files/\" + country_fact_commit[0], 'rb').read()\n",
    "\n",
    "#Submit the commit\n",
    "create_result = user1_repo.update_file(country_fact_file,country_fact_commit[1],file_content,\n",
    "                                          last_fact_content_sha,branch=fix_india_capital_branch_name,\n",
    "                                          committer=country_fact_commit[2])\n",
    "#Print results\n",
    "print(country_fact_commit[2])\n",
    "print(create_result)\n",
    "\n",
    "#Sleep to guarantee that fix comes bofore next comment to issue\n",
    "time.sleep(3)\n",
    "\n",
    "#Comment in the issue that this has been fixed\n",
    "india_issue_user1.create_comment(\"I have fixed this in \" + str(create_result[\"commit\"].sha) + \" and will open a pull request.\")"
   ]
  },
  {
   "cell_type": "markdown",
   "metadata": {},
   "source": [
    "### Start pull request"
   ]
  },
  {
   "cell_type": "code",
   "execution_count": null,
   "metadata": {},
   "outputs": [],
   "source": [
    "#Parameters for Pull request creaetion\n",
    "title = \"Fix India's capital, issue #\"+str(india_issue_user1.number)\n",
    "body = \"**Mumbai** was previosuly listed as capital of India. This is now corrected to **New Dehli** \\n\\n This fixes issue #\"+str(india_issue_user1.number)\n",
    "\n",
    "#Create the pull request\n",
    "india_PR = user1_repo.create_pull(title=title,body=body,base=\"master\",head=fix_india_capital_branch_name)\n",
    "\n",
    "#Add a reveiwer\n",
    "#india_PR.create_review_request([user2.login])\n",
    "#this does not work in pygithub 1.39 which is the most recent version that works on a Bank device\n",
    "\n",
    "#Sleep to guarantee that PR is opened before next comment to issue\n",
    "time.sleep(3)"
   ]
  },
  {
   "cell_type": "code",
   "execution_count": null,
   "metadata": {},
   "outputs": [],
   "source": [
    "#Say thank you from original poster!\n",
    "india_issue_user2.create_comment(\"Thank you @\" +user1.login+ \", I will review the pull request and merge it!\")"
   ]
  }
 ],
 "metadata": {
  "kernelspec": {
   "display_name": "Python 3",
   "language": "python",
   "name": "python3"
  },
  "language_info": {
   "codemirror_mode": {
    "name": "ipython",
    "version": 3
   },
   "file_extension": ".py",
   "mimetype": "text/x-python",
   "name": "python",
   "nbconvert_exporter": "python",
   "pygments_lexer": "ipython3",
   "version": "3.7.5"
  }
 },
 "nbformat": 4,
 "nbformat_minor": 2
}
